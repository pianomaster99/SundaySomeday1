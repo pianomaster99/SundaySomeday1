{
 "cells": [
  {
   "cell_type": "code",
   "execution_count": 4,
   "id": "ae9d3d6f",
   "metadata": {},
   "outputs": [],
   "source": [
    "import numpy as np\n",
    "from pathlib import Path\n",
    "import pandas as pd"
   ]
  },
  {
   "cell_type": "code",
   "execution_count": 2,
   "id": "6ac5d906",
   "metadata": {},
   "outputs": [],
   "source": [
    "def sig(x):\n",
    "  return 1/(1+np.exp(-x))\n",
    "def sigDerv(x):\n",
    "  return sig(x)*(1-sig(x))\n",
    "\n",
    "def cost(actual,predicted):\n",
    "  return np.average((actual-predicted)**2)\n",
    "def costDerv(actual,predicted):\n",
    "  return 2*(predicted-actual)/predicted.size"
   ]
  },
  {
   "cell_type": "code",
   "execution_count": 5,
   "id": "a6f4218a",
   "metadata": {},
   "outputs": [],
   "source": [
    "#Current path of this file\n",
    "aiPath = Path().cwd()\n",
    "\n",
    "#Current path of backend folder\n",
    "backendPath = aiPath.parent\n",
    "\n",
    "#Path of the chineseMNIST dataset\n",
    "csv_path = backendPath / \"data\" / \"chineseMNIST.csv\"\n",
    "\n",
    "#Reading the dataset\n",
    "df = pd.read_csv(csv_path)"
   ]
  },
  {
   "cell_type": "code",
   "execution_count": null,
   "id": "ee213b56",
   "metadata": {},
   "outputs": [],
   "source": [
    "class layer:\n",
    "    def __init__(self, inputSize: int, outputSize: int):\n",
    "        \"\"\"\n",
    "        \"\"\"\n",
    "        self.weights = np.random.rand(inputSize, outputSize) #inputSize by outputSize matrix\n",
    "        self.bias = np.random.rand(1, outputSize) #1 by outputSize vector\n",
    "\n",
    "    def forward(self)"
   ]
  }
 ],
 "metadata": {
  "kernelspec": {
   "display_name": "Python 3",
   "language": "python",
   "name": "python3"
  },
  "language_info": {
   "codemirror_mode": {
    "name": "ipython",
    "version": 3
   },
   "file_extension": ".py",
   "mimetype": "text/x-python",
   "name": "python",
   "nbconvert_exporter": "python",
   "pygments_lexer": "ipython3",
   "version": "3.13.7"
  }
 },
 "nbformat": 4,
 "nbformat_minor": 5
}
